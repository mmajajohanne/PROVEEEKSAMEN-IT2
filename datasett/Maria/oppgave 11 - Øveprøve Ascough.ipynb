{
 "cells": [
  {
   "cell_type": "code",
   "execution_count": 16,
   "metadata": {},
   "outputs": [
    {
     "name": "stdout",
     "output_type": "stream",
     "text": [
      "Sum av alt:  44600\n"
     ]
    },
    {
     "name": "stderr",
     "output_type": "stream",
     "text": [
      "C:\\Users\\Maska001\\AppData\\Local\\Temp\\ipykernel_11588\\3124977500.py:7: UserWarning: Parsing dates in DD/MM/YYYY format when dayfirst=False (the default) was specified. This may lead to inconsistently parsed dates! Specify a format to ensure consistent parsing.\n",
      "  df['dato'] = pd.to_datetime(df['dato'])\n"
     ]
    },
    {
     "data": {
      "text/plain": [
       "måned\n",
       "January     7622\n",
       "February    5285\n",
       "March       3613\n",
       "Name: beløp (kr), dtype: int64"
      ]
     },
     "execution_count": 16,
     "metadata": {},
     "output_type": "execute_result"
    }
   ],
   "source": [
    "import pandas as pd\n",
    "pd.set_option('display.max_rows', None)\n",
    "\n",
    "# Read the JSON file into a DataFrame\n",
    "df = pd.read_csv('oppgave11.csv',delimiter=\";\")\n",
    "\n",
    "df['dato'] = pd.to_datetime(df['dato'])\n",
    "df['måned'] = df['dato'].dt.month\n",
    "maanedlig_sum_strom = df[df[\"type\"] == \"strøm\"].groupby('måned')[\"beløp (kr)\"].sum()\n",
    "maanedlig_sum_strom.index = pd.to_datetime(maanedlig_sum_strom.index, format='%m').strftime('%B')\n",
    "\n",
    "#sumAvAlt = df[(df[\"type\"] == \"mat\") | (df[\"type\"] == \"strøm\")][\"beløp (kr)\"].sum() #I tilfelle det dukker opp andre typer, velger vi bare mat og strøm\n",
    "sumAvStrom = df[df[\"type\"] == \"strøm\"][\"beløp (kr)\"].sum()\n",
    "sumAvMat = df[(df[\"type\"] == \"mat\")][\"beløp (kr)\"].sum()\n",
    "\n",
    "sumAvAlt = sumAvStrom + sumAvMat\n",
    "\n",
    "print(\"Sum av alt: \", sumAvAlt)\n",
    "maanedlig_sum_strom\n",
    "\n",
    "\n"
   ]
  },
  {
   "cell_type": "code",
   "execution_count": null,
   "metadata": {},
   "outputs": [],
   "source": []
  }
 ],
 "metadata": {
  "interpreter": {
   "hash": "7a542ca580817fc4dd55327026e074e2fa0cd470fc5dee9350c2d8b13822db8d"
  },
  "kernelspec": {
   "display_name": "Python 3.8.2 32-bit",
   "language": "python",
   "name": "python3"
  },
  "language_info": {
   "codemirror_mode": {
    "name": "ipython",
    "version": 3
   },
   "file_extension": ".py",
   "mimetype": "text/x-python",
   "name": "python",
   "nbconvert_exporter": "python",
   "pygments_lexer": "ipython3",
   "version": "3.8.2"
  },
  "orig_nbformat": 4
 },
 "nbformat": 4,
 "nbformat_minor": 2
}
